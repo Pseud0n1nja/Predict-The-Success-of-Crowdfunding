{
 "cells": [
  {
   "cell_type": "markdown",
   "metadata": {},
   "source": [
    "# Data preprocessing\n",
    "1. balance the dataset (optional)\n",
    "2. encode category features\n",
    "3. encode text features\n",
    "4. modify the dataset: add 'duration', drop colunms as 'name', 'project_id', etc.\n",
    "5. split dataset to training, dev and test set (90%, 5%, 5%)"
   ]
  },
  {
   "cell_type": "code",
   "execution_count": 49,
   "metadata": {},
   "outputs": [],
   "source": [
    "#%matplotlib inline\n",
    "import numpy as np\n",
    "import pandas as pd\n",
    "import matplotlib.pyplot as plt\n",
    "import sklearn\n",
    "from sklearn import preprocessing\n",
    "from sklearn.feature_extraction.text import CountVectorizer\n",
    "from sklearn.utils import shuffle\n",
    "from sklearn import linear_model, datasets\n",
    "from sklearn.metrics import accuracy_score\n",
    "from sklearn import naive_bayes\n",
    "import json\n",
    "import random\n",
    "from keras.preprocessing.text import one_hot, Tokenizer\n",
    "from keras.preprocessing.sequence import pad_sequences\n",
    "from keras import Model\n",
    "from keras.models import Sequential, model_from_json\n",
    "from keras.layers import Input, Dense, Conv1D, MaxPooling1D, LSTM, GlobalMaxPooling1D\n",
    "from keras.layers import Dropout\n",
    "from keras.layers import Flatten\n",
    "from keras.layers import Merge, Concatenate\n",
    "from keras.layers import regularizers\n",
    "from keras.layers.embeddings import Embedding\n",
    "from keras.callbacks import EarlyStopping, ModelCheckpoint\n",
    "from keras import optimizers\n",
    "from sklearn.metrics import confusion_matrix\n",
    "import itertools"
   ]
  },
  {
   "cell_type": "code",
   "execution_count": 3,
   "metadata": {},
   "outputs": [],
   "source": [
    "# pd.set_option('colwidth', -1)\n"
   ]
  },
  {
   "cell_type": "code",
   "execution_count": 4,
   "metadata": {},
   "outputs": [
    {
     "name": "stdout",
     "output_type": "stream",
     "text": [
      "34561\n",
      "108129\n",
      "0.6803725180108944\n"
     ]
    }
   ],
   "source": [
    "# count the number of successful projects and failed projects\n",
    "succ_num = sum(df['final_status'] == 1)\n",
    "print(succ_num)\n",
    "total_num = df.shape[0]\n",
    "print(total_num)\n",
    "print(1- succ_num/total_num)"
   ]
  },
  {
   "cell_type": "code",
   "execution_count": 5,
   "metadata": {
    "scrolled": true
   },
   "outputs": [],
   "source": [
    "# Make the dataset balance: half successful projects and half failed projects\n",
    "def balance(df):\n",
    "    # seperate successful projects and failed projects\n",
    "    df_succ = df[df['final_status'] == 1]\n",
    "    df_fail = df[df['final_status'] == 0]\n",
    "    # duplicate successful projects\n",
    "    df_succ_copy = df_succ.copy()\n",
    "    # random select failed projects and its amount equals to 2 times of sucessful projects\n",
    "    df_fail_sel = df_fail.sample(n = succ_num*2)\n",
    "    # concat the 3 dataframes\n",
    "    df_balance = pd.concat([df_succ, df_succ_copy, df_fail_sel], axis=0)\n",
    "    # shuffle the concated dataframe\n",
    "    df_balance = shuffle(df_balance)\n",
    "    return df_balance"
   ]
  },
  {
   "cell_type": "code",
   "execution_count": 6,
   "metadata": {},
   "outputs": [],
   "source": [
    "# Encode 'category' features, label them with values between 0 and n_classes-1\n",
    "def encoder_cat(df, col):\n",
    "    le = preprocessing.LabelEncoder()\n",
    "    col_label = le.fit_transform(df[col])\n",
    "    df[col]=pd.Series(col_label)\n",
    "    return le"
   ]
  },
  {
   "cell_type": "code",
   "execution_count": 7,
   "metadata": {},
   "outputs": [],
   "source": [
    "# encode text features\n",
    "def encoder_text(df, col, min_df=10):\n",
    "    df[col] = df[col].astype(str)\n",
    "    vectorizer = CountVectorizer(min_df=min_df)\n",
    "    vectorizer.fit(df[col])\n",
    "    col_bag_of_words = vectorizer.transform(df[col])\n",
    "    return col_bag_of_words, vectorizer"
   ]
  },
  {
   "cell_type": "code",
   "execution_count": 8,
   "metadata": {},
   "outputs": [],
   "source": [
    "def modify(df):\n",
    "    # add a new colunm ‘duration’\n",
    "    df.insert(13, 'duration', df['deadline']-df['launched_at'])\n",
    "    # df['duration'] = df['deadline'] - df['launched_at'] \n",
    "    # drop unused colunms\n",
    "    df = df.drop(columns=['Unnamed: 0', 'project_id', 'name', 'desc', 'keywords', 'deadline', 'state_changed_at', 'created_at', 'launched_at', #'backers_count', \n",
    "                          'final_status'])\n",
    "    encoder_cat(df, 'country')\n",
    "    encoder_cat(df, 'currency')\n",
    "    encoder_cat(df, 'disable_communication')\n",
    "    return df"
   ]
  },
  {
   "cell_type": "code",
   "execution_count": 9,
   "metadata": {},
   "outputs": [],
   "source": [
    "def split(df):\n",
    "    n = float(len(df_data))\n",
    "    n_train = int(n * 0.9)\n",
    "    n_dev = int(n * 0.05)\n",
    "    \n",
    "    train_set = df[:n_train]\n",
    "    dev_set = df[n_train : (n_train + n_dev)]\n",
    "    test_set = df[(n_train + n_dev) :]\n",
    "    return train_set, dev_set, test_set"
   ]
  },
  {
   "cell_type": "code",
   "execution_count": 10,
   "metadata": {},
   "outputs": [],
   "source": [
    "### normalize the numerical features\n",
    "df_data = modify(df)\n",
    "\n",
    "train_data, dev_data, test_data = split(df_data)\n",
    "\n",
    "scaler = sklearn.preprocessing.StandardScaler().fit(train_data)\n",
    "norm_train_data = scaler.transform(train_data)\n",
    "norm_dev_data = scaler.transform(dev_data)\n",
    "norm_test_data = scaler.transform(test_data)"
   ]
  },
  {
   "cell_type": "code",
   "execution_count": 12,
   "metadata": {},
   "outputs": [],
   "source": [
    "### split label\n",
    "n_train = train_data.shape[0]\n",
    "n_dev = dev_data.shape[0]\n",
    "n_test = test_data.shape[0]\n",
    "\n",
    "labels = df['final_status']\n",
    "\n",
    "train_label = labels[:n_train]\n",
    "dev_label = labels[n_train:n_train+n_dev]\n",
    "test_label = labels[n_train+n_dev:n_train+n_dev+n_test]"
   ]
  },
  {
   "cell_type": "code",
   "execution_count": 13,
   "metadata": {},
   "outputs": [
    {
     "data": {
      "text/plain": [
       "(5407,)"
      ]
     },
     "execution_count": 13,
     "metadata": {},
     "output_type": "execute_result"
    }
   ],
   "source": [
    "test_label.shape"
   ]
  },
  {
   "cell_type": "code",
   "execution_count": 14,
   "metadata": {},
   "outputs": [
    {
     "data": {
      "text/plain": [
       "(5407, 6)"
      ]
     },
     "execution_count": 14,
     "metadata": {},
     "output_type": "execute_result"
    }
   ],
   "source": [
    "test_data.shape"
   ]
  },
  {
   "cell_type": "code",
   "execution_count": 54,
   "metadata": {},
   "outputs": [],
   "source": [
    "# embedding text features\n",
    "def embedding_text(df, col, MAXLEN, MAX_WORDS=5000):\n",
    "    df[col] = df[col].astype(str)\n",
    "    tok = Tokenizer(num_words=MAX_WORDS, oov_token='<UNK>')\n",
    "    tok.fit_on_texts(df[col])\n",
    "    \n",
    "    tok.word_index = {e:i for e,i in tok.word_index.items() if i <= MAX_WORDS}\n",
    "    tok.word_index[tok.oov_token] = MAX_WORDS + 1\n",
    "\n",
    "    seq = tok.texts_to_sequences(df[col])\n",
    "\n",
    "    padded = pad_sequences(seq, maxlen=MAXLEN, padding='post')\n",
    "    return (padded, tok)"
   ]
  },
  {
   "cell_type": "code",
   "execution_count": 55,
   "metadata": {},
   "outputs": [],
   "source": [
    "padded_desc, desc_tok = embedding_text(df, 'desc', 30, MAX_WORDS=5000)"
   ]
  },
  {
   "cell_type": "code",
   "execution_count": 56,
   "metadata": {},
   "outputs": [],
   "source": [
    "padded_kw, kw_tok = embedding_text(df, 'keywords', 10, MAX_WORDS=5000)"
   ]
  },
  {
   "cell_type": "code",
   "execution_count": 21,
   "metadata": {},
   "outputs": [],
   "source": [
    "### split text features\n",
    "train_desc = padded_desc[:n_train]\n",
    "dev_desc = padded_desc[n_train:n_train+n_dev]\n",
    "test_desc = padded_desc[n_train+n_dev:n_train+n_dev+n_test]\n",
    "\n",
    "train_kw = padded_kw[:n_train]\n",
    "dev_kw = padded_kw[n_train:n_train+n_dev]\n",
    "test_kw = padded_kw[n_train+n_dev:n_train+n_dev+n_test]"
   ]
  },
  {
   "cell_type": "markdown",
   "metadata": {
    "collapsed": true
   },
   "source": [
    "# Error Analysis for Deep Neural Network Model\n",
    "1. load the best model\n",
    "2. randomly sample 100 errors on dev set to define the error types\n",
    "3. plot the confusion matrix on test set"
   ]
  },
  {
   "cell_type": "code",
   "execution_count": 22,
   "metadata": {},
   "outputs": [
    {
     "name": "stdout",
     "output_type": "stream",
     "text": [
      "Loaded model from disk\n"
     ]
    }
   ],
   "source": [
    "# load json and create model\n",
    "json_file = open('/home/ubuntu/Notebooks/model_19.json', 'r')\n",
    "loaded_model_json = json_file.read()\n",
    "json_file.close()\n",
    "loaded_model = model_from_json(loaded_model_json)\n",
    "# load weights into new model\n",
    "loaded_model.load_weights(\"/home/ubuntu/Notebooks/model_19_weights.hdf5\")\n",
    "print(\"Loaded model from disk\")\n",
    "# evaluate loaded model on test data\n",
    "loaded_model.compile(loss='binary_crossentropy', optimizer='adam', metrics=['accuracy'])"
   ]
  },
  {
   "cell_type": "code",
   "execution_count": 23,
   "metadata": {},
   "outputs": [
    {
     "name": "stdout",
     "output_type": "stream",
     "text": [
      "5406/5406 [==============================] - 8s 2ms/step\n"
     ]
    },
    {
     "data": {
      "text/plain": [
       "[0.5481614762220478, 0.7241953386230201]"
      ]
     },
     "execution_count": 23,
     "metadata": {},
     "output_type": "execute_result"
    }
   ],
   "source": [
    "loaded_model.evaluate([dev_desc, dev_kw, norm_dev_data[:, :5]], dev_label, verbose=1)"
   ]
  },
  {
   "cell_type": "code",
   "execution_count": 24,
   "metadata": {},
   "outputs": [],
   "source": [
    "proba = loaded_model.predict([dev_desc, dev_kw, norm_dev_data[:, :5]])"
   ]
  },
  {
   "cell_type": "code",
   "execution_count": 25,
   "metadata": {},
   "outputs": [],
   "source": [
    "predictions = proba > 0.5\n",
    "predictions = predictions.transpose()[0]\n",
    "dev_l = np.array(dev_label > 0.5)"
   ]
  },
  {
   "cell_type": "code",
   "execution_count": 77,
   "metadata": {},
   "outputs": [],
   "source": [
    "desc = list(df['desc'])\n",
    "kw = list(df['keywords'])"
   ]
  },
  {
   "cell_type": "code",
   "execution_count": 82,
   "metadata": {},
   "outputs": [],
   "source": [
    "error_ids = []\n",
    "for i in range(predictions.shape[0]):\n",
    "    if predictions[i] != dev_l[i]:\n",
    "        error_ids.append(i)"
   ]
  },
  {
   "cell_type": "code",
   "execution_count": 93,
   "metadata": {},
   "outputs": [],
   "source": [
    "# random.shuffle(error_ids)\n",
    "# print errors\n",
    "# for i in error_ids[:100]:\n",
    "#     print('*' * 50)\n",
    "#     print('desc: {}'.format(desc[i+n_train]))\n",
    "#     print('kw: {}'.format(kw[i+n_train]))\n",
    "#     print('prediction: {}'.format(predictions[i]))\n",
    "#     print('proba: {}'.format(proba[i]))\n",
    "#     print('gold: {}\\n'.format(dev_l[i]))"
   ]
  },
  {
   "cell_type": "markdown",
   "metadata": {},
   "source": [
    "# Plot confusion matrix on test set"
   ]
  },
  {
   "cell_type": "code",
   "execution_count": 85,
   "metadata": {},
   "outputs": [
    {
     "name": "stdout",
     "output_type": "stream",
     "text": [
      "5407/5407 [==============================] - 8s 1ms/step\n"
     ]
    },
    {
     "data": {
      "text/plain": [
       "[0.5351157423218363, 0.7277603105870813]"
      ]
     },
     "execution_count": 85,
     "metadata": {},
     "output_type": "execute_result"
    }
   ],
   "source": [
    "loaded_model.evaluate([test_desc, test_kw, norm_test_data[:, :5]], test_label, verbose=1)"
   ]
  },
  {
   "cell_type": "code",
   "execution_count": 86,
   "metadata": {},
   "outputs": [],
   "source": [
    "test_proba = loaded_model.predict([test_desc, test_kw, norm_test_data[:, :5]])"
   ]
  },
  {
   "cell_type": "code",
   "execution_count": 37,
   "metadata": {},
   "outputs": [],
   "source": [
    "test_pred = test_proba >= 0.5\n",
    "test_pred = test_pred.transpose()[0]\n",
    "test_l = np.array(test_label > 0.5)"
   ]
  },
  {
   "cell_type": "code",
   "execution_count": 38,
   "metadata": {
    "scrolled": true
   },
   "outputs": [
    {
     "data": {
      "text/plain": [
       "(5407,)"
      ]
     },
     "execution_count": 38,
     "metadata": {},
     "output_type": "execute_result"
    }
   ],
   "source": [
    "test_pred.shape"
   ]
  },
  {
   "cell_type": "code",
   "execution_count": 39,
   "metadata": {},
   "outputs": [
    {
     "data": {
      "text/plain": [
       "(5407,)"
      ]
     },
     "execution_count": 39,
     "metadata": {},
     "output_type": "execute_result"
    }
   ],
   "source": [
    "test_l.shape"
   ]
  },
  {
   "cell_type": "code",
   "execution_count": 40,
   "metadata": {},
   "outputs": [
    {
     "data": {
      "text/plain": [
       "array([[3324,  383],\n",
       "       [1089,  611]])"
      ]
     },
     "execution_count": 40,
     "metadata": {},
     "output_type": "execute_result"
    }
   ],
   "source": [
    "confusion_matrix(test_l, test_pred)"
   ]
  },
  {
   "cell_type": "code",
   "execution_count": 41,
   "metadata": {},
   "outputs": [],
   "source": [
    "cm = confusion_matrix(test_l, test_pred)"
   ]
  },
  {
   "cell_type": "code",
   "execution_count": 50,
   "metadata": {},
   "outputs": [],
   "source": [
    "def plot_confusion_matrix(cm, title='Confusion Matrix', cmap=plt.cm.OrRd):  \n",
    "    plt.imshow(cm, interpolation='nearest', cmap=cmap)  \n",
    "    plt.title(title)  \n",
    "    plt.colorbar()  \n",
    "    xlocations = np.array([1,0])  \n",
    "    plt.xticks(xlocations, labels)  \n",
    "    plt.yticks(xlocations, labels, rotation=90) \n",
    "    \n",
    "    for i, j in itertools.product(range(cm.shape[0]), range(cm.shape[1])):\n",
    "        plt.text(j, i, format(cm[i, j]),\n",
    "                 horizontalalignment=\"center\",\n",
    "                 color=\"black\")\n",
    "        \n",
    "    plt.ylabel('True label')  \n",
    "    plt.xlabel('Predicted label')  "
   ]
  },
  {
   "cell_type": "code",
   "execution_count": 94,
   "metadata": {
    "scrolled": true
   },
   "outputs": [
    {
     "data": {
      "image/png": "[encoded data removed]",
      "text/plain": [
       "<Figure size 480x240 with 2 Axes>"
      ]
     },
     "metadata": {},
     "output_type": "display_data"
    }
   ],
   "source": [
    "plt.figure(figsize=(4,2), dpi=120)\n",
    "plot_confusion_matrix(cm, title='Confusion Matrix')  \n",
    "#show confusion matrix \n",
    "plt.savefig('/home/ubuntu/Notebooks/images/confusion_matrix')\n",
    "plt.show()  "
   ]
  },
  {
   "cell_type": "markdown",
   "metadata": {},
   "source": [
    "# Our Demo\n",
    "Please input your project description, keywords and goal (how much money you want to raise), then see our prediction!\n",
    "Have fun! "
   ]
  },
  {
   "cell_type": "code",
   "execution_count": 59,
   "metadata": {},
   "outputs": [],
   "source": [
    "def will_i_success(desc, kw, goal):\n",
    "    norm_demo_data = np.zeros([1, 6])\n",
    "    norm_demo_data[0, 0] = goal\n",
    "    norm_demo_data[0, 1] = 0\n",
    "    norm_demo_data[0, 2] = 10\n",
    "    norm_demo_data[0, 3] = 8\n",
    "    norm_demo_data[0, 4] = 3600 * 24 * 30\n",
    "    norm_demo_data = scaler.transform(norm_demo_data)\n",
    "\n",
    "    demo_desc = desc_tok.texts_to_sequences([desc])\n",
    "    padded_desc = pad_sequences(demo_desc, maxlen=30, padding='post')\n",
    "    demo_kw = desc_tok.texts_to_sequences([kw])\n",
    "    padded_kw = pad_sequences(demo_kw, maxlen=10, padding='post')\n",
    "\n",
    "    proba = loaded_model.predict([padded_desc, padded_kw, norm_demo_data[:, :5]])[0,0]\n",
    "    print('probability of success: {0:.4g}%'.format(proba*100))\n",
    "    if proba > 0.5:\n",
    "        print('You should totally do it!')\n",
    "    else:\n",
    "        print('Maybe you should consider something else...')\n",
    "    \n",
    "# loaded_model.predict([dev_desc, dev_kw, norm_dev_data[:, :5]], verbose=1)"
   ]
  },
  {
   "cell_type": "code",
   "execution_count": 60,
   "metadata": {},
   "outputs": [
    {
     "name": "stdout",
     "output_type": "stream",
     "text": [
      "probability of success: 72.34%\n",
      "You should totally do it!\n"
     ]
    }
   ],
   "source": [
    "# Example\n",
    "desc = 'A new feature documentary about the lives of cats (and their caretakers) that inhabit a popular tourist landmark in Buenos Aires.'\n",
    "kw = 'the guardians of recoleta'\n",
    "goal = 15000\n",
    "will_i_success(desc, kw, goal)"
   ]
  },
  {
   "cell_type": "code",
   "execution_count": 88,
   "metadata": {},
   "outputs": [
    {
     "name": "stdout",
     "output_type": "stream",
     "text": [
      "probability of success: 90.44%\n",
      "You should totally do it!\n"
     ]
    }
   ],
   "source": [
    "# Example\n",
    "desc = 'A cool card game of a war between raccoon and alpacas.'\n",
    "kw = 'the adventure of rap raccoon and awesome alpaca'\n",
    "goal = 15000\n",
    "will_i_success(desc, kw, goal)"
   ]
  },
  {
   "cell_type": "code",
   "execution_count": 89,
   "metadata": {},
   "outputs": [
    {
     "name": "stdout",
     "output_type": "stream",
     "text": [
      "probability of success: 5.584%\n",
      "Maybe you should consider something else...\n"
     ]
    }
   ],
   "source": [
    "# Example\n",
    "desc = 'A mobile dating app for raccoons.'\n",
    "kw = 'tinder for raccoons'\n",
    "goal = 300\n",
    "will_i_success(desc, kw, goal)"
   ]
  },
  {
   "cell_type": "code",
   "execution_count": 90,
   "metadata": {},
   "outputs": [
    {
     "name": "stdout",
     "output_type": "stream",
     "text": [
      "probability of success: 21.45%\n",
      "Maybe you should consider something else...\n"
     ]
    }
   ],
   "source": [
    "# Example\n",
    "desc = 'I want to shoot a documentary of a raccoon falling in love with an alpaca.'\n",
    "kw = 'the love story of a raccoon'\n",
    "goal = 1000\n",
    "will_i_success(desc, kw, goal)"
   ]
  },
  {
   "cell_type": "code",
   "execution_count": 91,
   "metadata": {},
   "outputs": [
    {
     "name": "stdout",
     "output_type": "stream",
     "text": [
      "probability of success: 59.79%\n",
      "You should totally do it!\n"
     ]
    }
   ],
   "source": [
    "# Example\n",
    "desc = 'Homemade is a feature length documentary about a Force Recon Marine and his family after he returns from combat with hidden wounds.'\n",
    "kw = 'homemade'\n",
    "goal = 28000\n",
    "will_i_success(desc, kw, goal)"
   ]
  },
  {
   "cell_type": "code",
   "execution_count": 92,
   "metadata": {},
   "outputs": [
    {
     "name": "stdout",
     "output_type": "stream",
     "text": [
      "probability of success: 11%\n",
      "Maybe you should consider something else...\n"
     ]
    }
   ],
   "source": [
    "# Example\n",
    "desc = 'We are creating a new entry luxury accessories brand for young people to enjoy better life without using spending much money.'\n",
    "kw = 'entry luxury accessories for young people'\n",
    "goal = 1000\n",
    "will_i_success(desc, kw, goal)"
   ]
  },
  {
   "cell_type": "code",
   "execution_count": null,
   "metadata": {},
   "outputs": [],
   "source": []
  }
 ],
 "metadata": {
  "kernelspec": {
   "display_name": "Python 3",
   "language": "python",
   "name": "python3"
  },
  "language_info": {
   "codemirror_mode": {
    "name": "ipython",
    "version": 3
   },
   "file_extension": ".py",
   "mimetype": "text/x-python",
   "name": "python",
   "nbconvert_exporter": "python",
   "pygments_lexer": "ipython3",
   "version": "3.6.4"
  }
 },
 "nbformat": 4,
 "nbformat_minor": 2
}
