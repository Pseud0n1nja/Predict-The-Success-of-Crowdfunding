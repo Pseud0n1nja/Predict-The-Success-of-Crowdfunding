{
 "cells": [
  {
   "cell_type": "code",
   "execution_count": 1,
   "metadata": {},
   "outputs": [
    {
     "name": "stderr",
     "output_type": "stream",
     "text": [
      "/home/ubuntu/anaconda3/envs/tensorflow_p36/lib/python3.6/site-packages/matplotlib/__init__.py:1067: UserWarning: Duplicate key in file \"/home/ubuntu/.config/matplotlib/matplotlibrc\", line #2\n",
      "  (fname, cnt))\n",
      "/home/ubuntu/anaconda3/envs/tensorflow_p36/lib/python3.6/site-packages/matplotlib/__init__.py:1067: UserWarning: Duplicate key in file \"/home/ubuntu/.config/matplotlib/matplotlibrc\", line #3\n",
      "  (fname, cnt))\n"
     ]
    }
   ],
   "source": [
    "%matplotlib inline\n",
    "import json\n",
    "import pprint\n",
    "import matplotlib.pyplot as plt\n",
    "from sklearn.metrics import confusion_matrix\n",
    "import numpy as np\n",
    "import pandas as pd"
   ]
  },
  {
   "cell_type": "code",
   "execution_count": 2,
   "metadata": {},
   "outputs": [],
   "source": [
    "with open('/home/ubuntu/Notebooks/rnn_experiments_3.json', 'r') as f:\n",
    "    results = json.load(f)\n",
    "    \n",
    "with open('/home/ubuntu/Notebooks/rnn_experiments_2.json', 'r') as f:\n",
    "    results += json.load(f)\n",
    "\n",
    "with open('/home/ubuntu/Notebooks/rnn_experiments_1.json', 'r') as f:\n",
    "    results += json.load(f)\n",
    "    \n",
    "with open('/home/ubuntu/Notebooks/rnn_experiments.json', 'r') as f:\n",
    "    results += json.load(f)\n",
    "\n"
   ]
  },
  {
   "cell_type": "code",
   "execution_count": 3,
   "metadata": {},
   "outputs": [
    {
     "name": "stdout",
     "output_type": "stream",
     "text": [
      "70\n"
     ]
    }
   ],
   "source": [
    "print(len(results))\n"
   ]
  },
  {
   "cell_type": "code",
   "execution_count": 4,
   "metadata": {},
   "outputs": [
    {
     "data": {
      "text/plain": [
       "[0.720310765948068,\n",
       " 0.7179060302925604,\n",
       " 0.7208657047283724,\n",
       " 0.7214206436850872,\n",
       " 0.7192008878582281,\n",
       " 0.7186459490558724,\n",
       " 0.7214206436850872,\n",
       " 0.7171661118600177,\n",
       " 0.7223455421226889,\n",
       " 0.7179060303146116,\n",
       " 0.7225305215985167,\n",
       " 0.7073621901370312,\n",
       " 0.6903440621090605,\n",
       " 0.7173510913137944,\n",
       " 0.704957454812293,\n",
       " 0.7204957454018447,\n",
       " 0.7153163151612248,\n",
       " 0.6999630041798088,\n",
       " 0.7162412135988264,\n",
       " 0.6785053643658123,\n",
       " 0.6953385126974422,\n",
       " 0.7114317426406318,\n",
       " 0.7199408066215403,\n",
       " 0.7214206436850872,\n",
       " 0.7077321495958667,\n",
       " 0.7136514982910805,\n",
       " 0.7121716610511232,\n",
       " 0.7241953386230201,\n",
       " 0.7203107657496064,\n",
       " 0.7180910099668499,\n",
       " 0.722715501405114,\n",
       " 0.7184609694036342,\n",
       " 0.7190159082059899,\n",
       " 0.7204957454018447,\n",
       " 0.7245652977951889,\n",
       " 0.7060673325272608,\n",
       " 0.7110617833361553,\n",
       " 0.723270440229521,\n",
       " 0.6958934518526185,\n",
       " 0.7143914169000336,\n",
       " 0.7066222715280782,\n",
       " 0.7160562339245369,\n",
       " 0.6761006288867151,\n",
       " 0.7208657049047827,\n",
       " 0.7167961523791309,\n",
       " 0.7127266002062996,\n",
       " 0.7162412135767752,\n",
       " 0.7173510914902047,\n",
       " 0.7180910099447987,\n",
       " 0.7160562337481265,\n",
       " 0.7203107659260167,\n",
       " 0.7199408065994889,\n",
       " 0.7180910099447987,\n",
       " 0.7075471697672182,\n",
       " 0.6831298558261277,\n",
       " 0.720495745578255,\n",
       " 0.7095819461182493,\n",
       " 0.7110617833141041,\n",
       " 0.711801701923057,\n",
       " 0.7121716610731745,\n",
       " 0.7056973734212459,\n",
       " 0.7118017019451084,\n",
       " 0.7155012949678221,\n",
       " 0.7101368850529127,\n",
       " 0.7153163153376352,\n",
       " 0.7049574546138313,\n",
       " 0.715501294813463,\n",
       " 0.7229004808809419,\n",
       " 0.7173510913358456,\n",
       " 0.6999630042018601]"
      ]
     },
     "execution_count": 4,
     "metadata": {},
     "output_type": "execute_result"
    }
   ],
   "source": [
    "[r['best_val_acc'] for r in results]"
   ]
  },
  {
   "cell_type": "code",
   "execution_count": 5,
   "metadata": {},
   "outputs": [
    {
     "name": "stdout",
     "output_type": "stream",
     "text": [
      "34\n",
      "0.7245652977951889\n"
     ]
    },
    {
     "data": {
      "text/plain": [
       "{'hyperparam': {'dropout_rate': 0.48576812493824445,\n",
       "  'n_lstm_layers': 4,\n",
       "  'lstm_hidden_size': 64,\n",
       "  'n_fc_layers': 4,\n",
       "  'fc_hidden_size': 64,\n",
       "  'use_backer': False,\n",
       "  'data_fc_hidden_size': 64,\n",
       "  'opt': 'adam',\n",
       "  'lr': 0.0001457152018119632,\n",
       "  'clipnorm': 5.0},\n",
       " 'history': {'val_loss': [0.5930798792018742,\n",
       "   0.5828187674934494,\n",
       "   0.5766192604293217,\n",
       "   0.5744445648098098,\n",
       "   0.569558236760384,\n",
       "   0.5621931980020507,\n",
       "   0.5595242539203656,\n",
       "   0.5601556525158079,\n",
       "   0.5554248256635719,\n",
       "   0.5583215505601387,\n",
       "   0.5522728466431918,\n",
       "   0.5464715671856846,\n",
       "   0.5490917284048534,\n",
       "   0.5449154702240213,\n",
       "   0.5487077737842451,\n",
       "   0.5439119411758524,\n",
       "   0.5443816083561611,\n",
       "   0.5458748068493735,\n",
       "   0.5419267140138692,\n",
       "   0.543723390537238,\n",
       "   0.5410521384790302,\n",
       "   0.5521385235738807,\n",
       "   0.5480207610562515],\n",
       "  'val_acc': [0.6834998149762451,\n",
       "   0.6873843878276076,\n",
       "   0.695708472178329,\n",
       "   0.6977432483529498,\n",
       "   0.7023677396589061,\n",
       "   0.7075471699215772,\n",
       "   0.7101368848985538,\n",
       "   0.7119866814209362,\n",
       "   0.7149463558567484,\n",
       "   0.7116167222928701,\n",
       "   0.7156862746200604,\n",
       "   0.7223455421006375,\n",
       "   0.7190159083824003,\n",
       "   0.7232704403618287,\n",
       "   0.7201257861194195,\n",
       "   0.7197558267928916,\n",
       "   0.7199408064671812,\n",
       "   0.718091010121209,\n",
       "   0.7221605624704506,\n",
       "   0.7245652977951889,\n",
       "   0.721235664032849,\n",
       "   0.7230854607316418,\n",
       "   0.7184609692713264],\n",
       "  'loss': [0.6108931396367091,\n",
       "   0.5855504147338781,\n",
       "   0.5785130402364578,\n",
       "   0.5731947189185077,\n",
       "   0.5682969678442459,\n",
       "   0.564364421675848,\n",
       "   0.5599735513647386,\n",
       "   0.555764558064991,\n",
       "   0.5525580085126485,\n",
       "   0.5492192036695244,\n",
       "   0.5463080241540597,\n",
       "   0.5440246254233878,\n",
       "   0.5418709172406382,\n",
       "   0.538879384947076,\n",
       "   0.536721765473188,\n",
       "   0.5347191400786472,\n",
       "   0.5332908969345103,\n",
       "   0.5306222173924501,\n",
       "   0.5304027807992339,\n",
       "   0.5279491866770222,\n",
       "   0.5273378380639784,\n",
       "   0.5253446100525372,\n",
       "   0.5239556850783946],\n",
       "  'acc': [0.6741337498532128,\n",
       "   0.688817871673328,\n",
       "   0.6916334415766866,\n",
       "   0.6968021702396967,\n",
       "   0.700532286581381,\n",
       "   0.7029368243561832,\n",
       "   0.7065436310551356,\n",
       "   0.7088967898368365,\n",
       "   0.7107669858942491,\n",
       "   0.7124830449209089,\n",
       "   0.7153705454395989,\n",
       "   0.7165111595240086,\n",
       "   0.7169119158279754,\n",
       "   0.7187821118755883,\n",
       "   0.7195322454757209,\n",
       "   0.7224300217749016,\n",
       "   0.7230568457372023,\n",
       "   0.7254922109367746,\n",
       "   0.7252455916831602,\n",
       "   0.7259751736635128,\n",
       "   0.7258313124230504,\n",
       "   0.7283077808450332,\n",
       "   0.7280919889794398]},\n",
       " 'best_val_loss': 0.5410521384790302,\n",
       " 'best_val_acc': 0.7245652977951889}"
      ]
     },
     "execution_count": 5,
     "metadata": {},
     "output_type": "execute_result"
    }
   ],
   "source": [
    "idx = 0\n",
    "max_acc = 0\n",
    "\n",
    "for i in range(len(results)):\n",
    "    if results[i]['best_val_acc'] > max_acc:\n",
    "        max_acc = results[i]['best_val_acc']\n",
    "        idx = i\n",
    "print(idx)\n",
    "print(max_acc)\n",
    "results[idx]"
   ]
  },
  {
   "cell_type": "code",
   "execution_count": 6,
   "metadata": {
    "scrolled": true
   },
   "outputs": [
    {
     "data": {
      "image/png": "[encoded data removed]",
      "text/plain": [
       "<Figure size 432x288 with 1 Axes>"
      ]
     },
     "metadata": {},
     "output_type": "display_data"
    }
   ],
   "source": [
    "#generate plots\n",
    "plt.figure()\n",
    "plt.plot(results[idx]['history']['loss'], lw=2.0, color='b', label='train')\n",
    "plt.plot(results[idx]['history']['val_loss'], lw=2.0, color='r', label='val')\n",
    "plt.title('RNN Model')\n",
    "plt.xlabel('Epochs')\n",
    "plt.ylabel('Cross-Entropy Loss')\n",
    "plt.legend(loc='upper right')\n",
    "plt.savefig('/home/ubuntu/Notebooks/images/loss.png') \n",
    "plt.show()\n",
    " "
   ]
  },
  {
   "cell_type": "code",
   "execution_count": 7,
   "metadata": {},
   "outputs": [
    {
     "data": {
      "image/png": "[encoded data removed]",
      "text/plain": [
       "<Figure size 432x288 with 1 Axes>"
      ]
     },
     "metadata": {},
     "output_type": "display_data"
    }
   ],
   "source": [
    "#generate plots\n",
    "plt.figure()\n",
    "plt.plot(results[idx]['history']['acc'], lw=2.0, color='b', label='train')\n",
    "plt.plot(results[idx]['history']['val_acc'], lw=2.0, color='r', label='val')\n",
    "plt.title('RNN Model')\n",
    "plt.xlabel('Epochs')\n",
    "plt.ylabel('Accuracy')\n",
    "plt.legend(loc='lower right')\n",
    "plt.savefig('/home/ubuntu/Notebooks/images/accuracy.png')\n",
    "plt.show()\n"
   ]
  },
  {
   "cell_type": "code",
   "execution_count": 8,
   "metadata": {},
   "outputs": [
    {
     "data": {
      "image/png": "[encoded data removed]",
      "text/plain": [
       "<Figure size 432x288 with 1 Axes>"
      ]
     },
     "metadata": {},
     "output_type": "display_data"
    }
   ],
   "source": [
    "p = []\n",
    "n = []\n",
    "pa = []\n",
    "na = []\n",
    "size = []\n",
    "a = []\n",
    "name = 'data_fc_hidden_size'\n",
    "# name = 'n_lstm_layers'\n",
    "# name = 'lstm_hidden_size'\n",
    "# name = 'n_fc_layers'\n",
    "name = 'fc_hidden_size'\n",
    "# name = 'dropout_rate'\n",
    "# name = 'lr'\n",
    "for r in results:\n",
    "    if r['best_val_acc'] > 0.72:\n",
    "        if name == 'lr':\n",
    "            p.append(np.log10(r['hyperparam'][name]))\n",
    "        else:\n",
    "            p.append(r['hyperparam'][name])\n",
    "        pa.append(r['best_val_acc'])\n",
    "    else:\n",
    "        if name == 'lr':\n",
    "            n.append(np.log10(r['hyperparam'][name]))\n",
    "        else:\n",
    "            n.append(r['hyperparam'][name])\n",
    "        na.append(r['best_val_acc'])\n",
    "\n",
    "#generate plots\n",
    "plt.figure()\n",
    "plt.scatter(p, pa, lw=2.0, color='b')\n",
    "plt.scatter(n, na, lw=2.0, color='r')\n",
    "\n",
    "# plt.plot([0.723] * 2, lw=2.0, color='purple')\n",
    "\n",
    "plt.title('RNN')\n",
    "plt.xlabel(name)\n",
    "plt.ylabel('performance')\n",
    "#plt.legend(loc='upper right')\n",
    "plt.show()"
   ]
  },
  {
   "cell_type": "code",
   "execution_count": 9,
   "metadata": {},
   "outputs": [
    {
     "data": {
      "image/png": "[encoded data removed]",
      "text/plain": [
       "<Figure size 432x288 with 1 Axes>"
      ]
     },
     "metadata": {},
     "output_type": "display_data"
    }
   ],
   "source": [
    "p = []\n",
    "n = []\n",
    "pa = []\n",
    "na = []\n",
    "size = []\n",
    "a = []\n",
    "name = 'data_fc_hidden_size'\n",
    "name = 'n_lstm_layers'\n",
    "name = 'lstm_hidden_size'\n",
    "name = 'n_fc_layers'\n",
    "name = 'fc_hidden_size'\n",
    "for r in results:\n",
    "    # p.append(r['hyperparam']['lstm_hidden_size'])\n",
    "    # p.append(r['hyperparam']['n_lstm_layers'])\n",
    "    # p.append(r['hyperparam']['dropout_rate'])\n",
    "    # p.append(r['hyperparam']['n_fc_layers'])\n",
    "    # p.append(r['hyperparam']['fc_hidden_size'])\n",
    "    lh = r['hyperparam']['lstm_hidden_size']\n",
    "    ll = r['hyperparam']['n_lstm_layers']\n",
    "    fl = r['hyperparam']['n_fc_layers']\n",
    "    fh = r['hyperparam']['fc_hidden_size']\n",
    "    dh = r['hyperparam']['data_fc_hidden_size']\n",
    "    x = 300\n",
    "    size.append((x+lh)*lh*4 + 2*lh*lh*4*(ll-1) + \n",
    "                (lh * fl + fl*fl*(fl-1)) + dh*6)\n",
    "    a.append(r['best_val_acc'])\n",
    "    if r['best_val_acc'] > 0.72:\n",
    "        p.append(r['hyperparam'][name])\n",
    "        pa.append(r['best_val_acc'])\n",
    "    else:\n",
    "        n.append(r['hyperparam'][name])\n",
    "        na.append(r['best_val_acc'])\n",
    "\n",
    "#generate plots\n",
    "plt.figure()\n",
    "# plt.scatter(p, pa, lw=2.0, color='b')\n",
    "# plt.scatter(n, na, lw=2.0, color='r')\n",
    "plt.scatter(size, a, lw=2.0, color='r')\n",
    "\n",
    "plt.title('RNN')\n",
    "plt.xlabel(name)\n",
    "plt.ylabel('performance')\n",
    "#plt.legend(loc='upper right')\n",
    "plt.show()"
   ]
  },
  {
   "cell_type": "code",
   "execution_count": null,
   "metadata": {},
   "outputs": [],
   "source": []
  }
 ],
 "metadata": {
  "kernelspec": {
   "display_name": "Environment (conda_tensorflow_p36)",
   "language": "python",
   "name": "conda_tensorflow_p36"
  },
  "language_info": {
   "codemirror_mode": {
    "name": "ipython",
    "version": 3
   },
   "file_extension": ".py",
   "mimetype": "text/x-python",
   "name": "python",
   "nbconvert_exporter": "python",
   "pygments_lexer": "ipython3",
   "version": "3.6.4"
  }
 },
 "nbformat": 4,
 "nbformat_minor": 2
}
